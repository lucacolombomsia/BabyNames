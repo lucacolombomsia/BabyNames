{
 "cells": [
  {
   "cell_type": "code",
   "execution_count": 1,
   "metadata": {
    "collapsed": true
   },
   "outputs": [],
   "source": [
    "import pandas as pd\n",
    "import os\n",
    "import matplotlib.pyplot as plt\n",
    "%matplotlib inline"
   ]
  },
  {
   "cell_type": "code",
   "execution_count": 2,
   "metadata": {
    "collapsed": true
   },
   "outputs": [],
   "source": [
    "files = [x for x in os.listdir(\"namesbystate\") if 'pdf' not in x and x != '.DS_Store' ]\n",
    "newlist = []\n",
    "columns = ['state','sex','year','name','births']\n",
    "for file in files:\n",
    "    path = 'namesbystate/{}'.format(file)\n",
    "    df = pd.read_csv(path,names=columns)\n",
    "    newlist.append(df)\n",
    "names = pd.concat(newlist,ignore_index = True)\n",
    "states_list = [file[:2] for file in files]"
   ]
  },
  {
   "cell_type": "code",
   "execution_count": null,
   "metadata": {
    "collapsed": true
   },
   "outputs": [],
   "source": []
  },
  {
   "cell_type": "code",
   "execution_count": 249,
   "metadata": {},
   "outputs": [
    {
     "data": {
      "text/plain": [
       "51"
      ]
     },
     "execution_count": 249,
     "metadata": {},
     "output_type": "execute_result"
    }
   ],
   "source": [
    "us_states = {\n",
    " 'AK': 'Alaska',\n",
    " 'AL': 'Alabama',\n",
    " 'AR': 'Arkansas',\n",
    " 'AZ': 'Arizona',\n",
    " 'CA': 'California',\n",
    " 'CO': 'Colorado',\n",
    " 'CT': 'Connecticut',\n",
    " 'DC': 'District of Columbia',\n",
    " 'DE': 'Delaware',\n",
    " 'FL': 'Florida',\n",
    " 'GA': 'Georgia',\n",
    " 'HI': 'Hawaii',\n",
    " 'IA': 'Iowa',\n",
    " 'ID': 'Idaho',\n",
    " 'IL': 'Illinois',\n",
    " 'IN': 'Indiana',\n",
    " 'KS': 'Kansas',\n",
    " 'KY': 'Kentucky',\n",
    " 'LA': 'Louisiana',\n",
    " 'MA': 'Massachusetts',\n",
    " 'MD': 'Maryland',\n",
    " 'ME': 'Maine',\n",
    " 'MI': 'Michigan',\n",
    " 'MN': 'Minnesota',\n",
    " 'MO': 'Missouri',\n",
    " 'MS': 'Mississippi',\n",
    " 'MT': 'Montana',\n",
    " 'NC': 'North Carolina',\n",
    " 'ND': 'North Dakota',\n",
    " 'NE': 'Nebraska',\n",
    " 'NH': 'New Hampshire',\n",
    " 'NJ': 'New Jersey',\n",
    " 'NM': 'New Mexico',\n",
    " 'NV': 'Nevada',\n",
    " 'NY': 'New York',\n",
    " 'OH': 'Ohio',\n",
    " 'OK': 'Oklahoma',\n",
    " 'OR': 'Oregon',\n",
    " 'PA': 'Pennsylvania',\n",
    " 'RI': 'Rhode Island',\n",
    " 'SC': 'South Carolina',\n",
    " 'SD': 'South Dakota',\n",
    " 'TN': 'Tennessee',\n",
    " 'TX': 'Texas',\n",
    " 'UT': 'Utah',\n",
    " 'VA': 'Virginia',\n",
    " 'VT': 'Vermont',\n",
    " 'WA': 'Washington',\n",
    " 'WI': 'Wisconsin',\n",
    " 'WV': 'West Virginia',\n",
    " 'WY': 'Wyoming'\n",
    "}\n",
    "len(us_states)"
   ]
  },
  {
   "cell_type": "code",
   "execution_count": null,
   "metadata": {
    "collapsed": true,
    "scrolled": true
   },
   "outputs": [],
   "source": []
  },
  {
   "cell_type": "markdown",
   "metadata": {},
   "source": [
    "## Final"
   ]
  },
  {
   "cell_type": "code",
   "execution_count": 25,
   "metadata": {
    "collapsed": true
   },
   "outputs": [],
   "source": [
    "class BabyNames(object):\n",
    "    def __init__(self, fileloc):\n",
    "        self.fileloc = fileloc\n",
    "        \n",
    "        files = [x for x in os.listdir(self.fileloc) if 'pdf' not in x and x != '.DS_Store']\n",
    "        newlist = []\n",
    "        columns = ['state','sex','year','name','births']\n",
    "        for file in files:\n",
    "            path = '{}/{}'.format(self.fileloc, file)\n",
    "            df = pd.read_csv(path,names=columns)\n",
    "            newlist.append(df)\n",
    "        self.data = pd.concat(newlist,ignore_index = True)\n",
    "        \n",
    "        self.states_list = [file[:2] for file in files]\n",
    "        self.years_list = self.data.year.unique()\n",
    "     \n",
    "    \n",
    "    def Count(self, state='', year=''):\n",
    "        state = self.states_list if state == '' else [state]\n",
    "        year = self.years_list if year == '' else [year]\n",
    "        return self.data[(self.data[\"state\"].isin(state)) & \n",
    "                  (self.data[\"year\"].isin(year))][\"births\"].sum()\n",
    "    \n",
    "    \n",
    "    def get_top10(group):\n",
    "        return group.sort_values(by='births',ascending=False).head(10)\n",
    "    \n",
    "    def Top10BabyNames(self, state='', year=''):\n",
    "        state = self.states_list if state == '' else [state]\n",
    "        year = self.years_list if year == '' else [year]\n",
    "        df = self.data[self.data[\"state\"].isin(state) & \n",
    "                self.data[\"year\"].isin(year)][[\"name\", \"births\", \"sex\"]\n",
    "                                             ].groupby([\"name\", \"sex\"], as_index = False\n",
    "                                                      ).sum().groupby(\"sex\", as_index = False\n",
    "                                                                     ).apply(get_top10)[[\"name\",\"sex\"]]\n",
    "        df[\"Rank\"] = list(range(1,11))*2\n",
    "        df = df.pivot(index = \"Rank\", columns = \"sex\", values = \"name\").reset_index()\n",
    "        result = pd.DataFrame({\"Rank\" : df.Rank, \"Male\" : df.M, \"Female\" : df.F})[[\"Rank\", \"Male\", \"Female\"]]\n",
    "        return result\n",
    "    \n",
    "    \n",
    "    def add_prop(group):\n",
    "        group['prop'] = round(100.0*group.births / group.births.sum(), 4)\n",
    "        return group\n",
    "    \n",
    "    def ChangeOfPopularity(self, fromYear=2014, toYear=2015, top=10):\n",
    "        def get_top(group):\n",
    "            return group.sort_values(by=toYear,ascending=False).head(top)\n",
    "        \n",
    "        df = self.data[(names[\"year\"] == fromYear) | (names[\"year\"] == toYear)\n",
    "                      ].groupby([\"name\", \"year\"], as_index = False).sum().groupby(\"year\", \n",
    "                                                                                  as_index = False).apply(add_prop)\n",
    "        df = df.pivot(index = \"name\", columns = \"year\", values = \"prop\").fillna(0).reset_index()\n",
    "\n",
    "        df[\"delta\"] = df[toYear] - df[fromYear]\n",
    "        df[\"sign\"] = \"neg\" \n",
    "        df.loc[(df.delta>0),\"sign\"] = \"pos\"\n",
    "        df.loc[(df.delta==0),\"sign\"] = \"zero\"\n",
    "        df = df.groupby(\"sign\").apply(get_top)[[\"sign\", \"name\", toYear]].reset_index(drop = True)\n",
    "        df[\"Rank\"] = list(range(1,top+1))*3\n",
    "\n",
    "        df = df.pivot(index = \"Rank\", columns=\"sign\", values = \"name\")\n",
    "        result = pd.DataFrame({\"c1\" : df.pos, \"c2\" : df.neg, \"c3\" : df.zero}\n",
    "                             ).rename(columns={\"c1\": \"More popular\", \"c2\" : \"Less popular\", \"c3\" : \"Same popularity\"})\n",
    "        return result\n",
    "    \n",
    "    \n",
    "    def Top5NamesPerYear(self,year=2015,sex=''):\n",
    "        sex = [\"M\", \"F\"] if sex == '' else [sex]\n",
    "        year = self.years_list if year == '' else [year]\n",
    "        \n",
    "        cols = [\"State\"]\n",
    "        for x in range(1,6):\n",
    "            cols.append(\"Rank {}\".format(x))\n",
    "            cols.append(\"Num\")\n",
    "        top5df = pd.DataFrame(columns=cols, index=range(51))\n",
    "\n",
    "        for i in range(len(self.states_list)):\n",
    "            df = self.data[(self.data[\"year\"].isin(year)) & (names[\"sex\"].isin(sex)) & \n",
    "                          (names[\"state\"]==self.states_list[i])\n",
    "                          ].sort_values(by=\"births\", ascending = False).head(5).reset_index(drop = True)\n",
    "            #df.index = range(5)\n",
    "\n",
    "            top5df.iloc[i,0] = us_states[self.states_list[i]]\n",
    "            for x in range(5):\n",
    "                top5df.iloc[i,x*2+1] = df.iloc[x,3]\n",
    "                top5df.iloc[i,x*2+2] = df.iloc[x,4]\n",
    "        return top5df\n",
    "    \n",
    "    \n",
    "    def add_prop(group):\n",
    "        group['prop'] = 100.0*group.births / group.births.sum()\n",
    "        return group\n",
    "    \n",
    "    def NamePopularityPlot(self, name='Jim', yearRange=(2000,2015), state='IL', sex='M'):\n",
    "        df = self.data[self.data[\"state\"] == state].groupby(['year','sex']).apply(add_prop)\n",
    "        df = df[(df[\"year\"]>=yearRange[0]) & (df[\"year\"]<=yearRange[1])\n",
    "                & (df[\"sex\"] == sex) & (df[\"name\"] == name)]\n",
    "        t = \"Popularity of name {} from {} to {}\".format(name, yearRange[0], yearRange[1])\n",
    "        df.set_index(\"year\")[\"prop\"].plot(title=t,figsize=(12,6))\n",
    "\n",
    "        \n",
    "    def NameFlip(self, n=10):\n",
    "        dfy = self.data.groupby(['name', 'year', 'sex'], as_index = False).sum().pivot_table(values = \"births\", columns = \"sex\", index = [\"name\", \"year\"]).fillna(0).reset_index()\n",
    "        dfy[\"delta\"] = dfy.F - dfy.M\n",
    "        dfy[\"tot\"] = dfy.F + dfy.M\n",
    "\n",
    "        df = dfy[['name', 'delta', 'tot']].groupby(\"name\").agg([\"max\", \"min\", \"sum\"]).reset_index()\n",
    "        df[\"check\"] = 0\n",
    "        df.loc[(df[\"delta\", \"max\"] > 0) & (df[\"delta\", \"min\"] < 0), \"check\"] = 1\n",
    "\n",
    "        result = pd.merge(pd.DataFrame(df[df.check == 1].sort_values([(\"tot\", \"sum\")], ascending = False).head(n)[\"name\"]),\n",
    "                          dfy[[\"name\", \"year\", \"delta\"]], left_on='name', right_on='name' , how='inner', sort=False)\n",
    "\n",
    "        result = result.pivot(index = \"year\", columns = \"name\", values = \"delta\").fillna(0)\n",
    "        t = \"Top {} names that flipped over the years\".format(n)\n",
    "        result.plot(title=t,figsize=(12,6))\n",
    "    \n",
    "    \n",
    "s1 = BabyNames('namesbystate')"
   ]
  },
  {
   "cell_type": "code",
   "execution_count": 175,
   "metadata": {},
   "outputs": [
    {
     "data": {
      "text/plain": [
       "305154531"
      ]
     },
     "execution_count": 175,
     "metadata": {},
     "output_type": "execute_result"
    }
   ],
   "source": [
    "s1.Count(state=\"\", year=\"\")"
   ]
  },
  {
   "cell_type": "code",
   "execution_count": 124,
   "metadata": {},
   "outputs": [
    {
     "data": {
      "text/html": [
       "<div>\n",
       "<style>\n",
       "    .dataframe thead tr:only-child th {\n",
       "        text-align: right;\n",
       "    }\n",
       "\n",
       "    .dataframe thead th {\n",
       "        text-align: left;\n",
       "    }\n",
       "\n",
       "    .dataframe tbody tr th {\n",
       "        vertical-align: top;\n",
       "    }\n",
       "</style>\n",
       "<table border=\"1\" class=\"dataframe\">\n",
       "  <thead>\n",
       "    <tr style=\"text-align: right;\">\n",
       "      <th></th>\n",
       "      <th>Rank</th>\n",
       "      <th>Male</th>\n",
       "      <th>Female</th>\n",
       "    </tr>\n",
       "  </thead>\n",
       "  <tbody>\n",
       "    <tr>\n",
       "      <th>0</th>\n",
       "      <td>1</td>\n",
       "      <td>Michael</td>\n",
       "      <td>Ashley</td>\n",
       "    </tr>\n",
       "    <tr>\n",
       "      <th>1</th>\n",
       "      <td>2</td>\n",
       "      <td>Joshua</td>\n",
       "      <td>Jessica</td>\n",
       "    </tr>\n",
       "    <tr>\n",
       "      <th>2</th>\n",
       "      <td>3</td>\n",
       "      <td>Matthew</td>\n",
       "      <td>Samantha</td>\n",
       "    </tr>\n",
       "    <tr>\n",
       "      <th>3</th>\n",
       "      <td>4</td>\n",
       "      <td>Christopher</td>\n",
       "      <td>Amanda</td>\n",
       "    </tr>\n",
       "    <tr>\n",
       "      <th>4</th>\n",
       "      <td>5</td>\n",
       "      <td>Jacob</td>\n",
       "      <td>Sarah</td>\n",
       "    </tr>\n",
       "    <tr>\n",
       "      <th>5</th>\n",
       "      <td>6</td>\n",
       "      <td>Andrew</td>\n",
       "      <td>Brittany</td>\n",
       "    </tr>\n",
       "    <tr>\n",
       "      <th>6</th>\n",
       "      <td>7</td>\n",
       "      <td>Tyler</td>\n",
       "      <td>Emily</td>\n",
       "    </tr>\n",
       "    <tr>\n",
       "      <th>7</th>\n",
       "      <td>8</td>\n",
       "      <td>Nicholas</td>\n",
       "      <td>Chelsea</td>\n",
       "    </tr>\n",
       "    <tr>\n",
       "      <th>8</th>\n",
       "      <td>9</td>\n",
       "      <td>Brandon</td>\n",
       "      <td>Megan</td>\n",
       "    </tr>\n",
       "    <tr>\n",
       "      <th>9</th>\n",
       "      <td>10</td>\n",
       "      <td>Ryan</td>\n",
       "      <td>Rachel</td>\n",
       "    </tr>\n",
       "  </tbody>\n",
       "</table>\n",
       "</div>"
      ],
      "text/plain": [
       "   Rank         Male    Female\n",
       "0     1      Michael    Ashley\n",
       "1     2       Joshua   Jessica\n",
       "2     3      Matthew  Samantha\n",
       "3     4  Christopher    Amanda\n",
       "4     5        Jacob     Sarah\n",
       "5     6       Andrew  Brittany\n",
       "6     7        Tyler     Emily\n",
       "7     8     Nicholas   Chelsea\n",
       "8     9      Brandon     Megan\n",
       "9    10         Ryan    Rachel"
      ]
     },
     "execution_count": 124,
     "metadata": {},
     "output_type": "execute_result"
    }
   ],
   "source": [
    "s1.Top10BabyNames(year = [1991, 1992], state = \"MI\")"
   ]
  },
  {
   "cell_type": "code",
   "execution_count": 266,
   "metadata": {},
   "outputs": [
    {
     "data": {
      "text/html": [
       "<div>\n",
       "<style>\n",
       "    .dataframe thead tr:only-child th {\n",
       "        text-align: right;\n",
       "    }\n",
       "\n",
       "    .dataframe thead th {\n",
       "        text-align: left;\n",
       "    }\n",
       "\n",
       "    .dataframe tbody tr th {\n",
       "        vertical-align: top;\n",
       "    }\n",
       "</style>\n",
       "<table border=\"1\" class=\"dataframe\">\n",
       "  <thead>\n",
       "    <tr style=\"text-align: right;\">\n",
       "      <th></th>\n",
       "      <th>More popular</th>\n",
       "      <th>Less popular</th>\n",
       "      <th>Same popularity</th>\n",
       "    </tr>\n",
       "    <tr>\n",
       "      <th>Rank</th>\n",
       "      <th></th>\n",
       "      <th></th>\n",
       "      <th></th>\n",
       "    </tr>\n",
       "  </thead>\n",
       "  <tbody>\n",
       "    <tr>\n",
       "      <th>1</th>\n",
       "      <td>Olivia</td>\n",
       "      <td>Emma</td>\n",
       "      <td>Melanie</td>\n",
       "    </tr>\n",
       "    <tr>\n",
       "      <th>2</th>\n",
       "      <td>Noah</td>\n",
       "      <td>Liam</td>\n",
       "      <td>Deacon</td>\n",
       "    </tr>\n",
       "    <tr>\n",
       "      <th>3</th>\n",
       "      <td>Ava</td>\n",
       "      <td>Sophia</td>\n",
       "      <td>Niko</td>\n",
       "    </tr>\n",
       "    <tr>\n",
       "      <th>4</th>\n",
       "      <td>James</td>\n",
       "      <td>William</td>\n",
       "      <td>Jaylene</td>\n",
       "    </tr>\n",
       "    <tr>\n",
       "      <th>5</th>\n",
       "      <td>Benjamin</td>\n",
       "      <td>Mason</td>\n",
       "      <td>Carolyn</td>\n",
       "    </tr>\n",
       "    <tr>\n",
       "      <th>6</th>\n",
       "      <td>Mia</td>\n",
       "      <td>Isabella</td>\n",
       "      <td>Abrielle</td>\n",
       "    </tr>\n",
       "  </tbody>\n",
       "</table>\n",
       "</div>"
      ],
      "text/plain": [
       "     More popular Less popular Same popularity\n",
       "Rank                                          \n",
       "1          Olivia         Emma         Melanie\n",
       "2            Noah         Liam          Deacon\n",
       "3             Ava       Sophia            Niko\n",
       "4           James      William         Jaylene\n",
       "5        Benjamin        Mason         Carolyn\n",
       "6             Mia     Isabella        Abrielle"
      ]
     },
     "execution_count": 266,
     "metadata": {},
     "output_type": "execute_result"
    }
   ],
   "source": [
    "s1.ChangeOfPopularity(fromYear = 2013, toYear = 2016, top = 6)"
   ]
  },
  {
   "cell_type": "code",
   "execution_count": 269,
   "metadata": {},
   "outputs": [
    {
     "data": {
      "text/html": [
       "<div>\n",
       "<style>\n",
       "    .dataframe thead tr:only-child th {\n",
       "        text-align: right;\n",
       "    }\n",
       "\n",
       "    .dataframe thead th {\n",
       "        text-align: left;\n",
       "    }\n",
       "\n",
       "    .dataframe tbody tr th {\n",
       "        vertical-align: top;\n",
       "    }\n",
       "</style>\n",
       "<table border=\"1\" class=\"dataframe\">\n",
       "  <thead>\n",
       "    <tr style=\"text-align: right;\">\n",
       "      <th></th>\n",
       "      <th>State</th>\n",
       "      <th>Rank 1</th>\n",
       "      <th>Num</th>\n",
       "      <th>Rank 2</th>\n",
       "      <th>Num</th>\n",
       "      <th>Rank 3</th>\n",
       "      <th>Num</th>\n",
       "      <th>Rank 4</th>\n",
       "      <th>Num</th>\n",
       "      <th>Rank 5</th>\n",
       "      <th>Num</th>\n",
       "    </tr>\n",
       "  </thead>\n",
       "  <tbody>\n",
       "    <tr>\n",
       "      <th>50</th>\n",
       "      <td>Wyoming</td>\n",
       "      <td>Jessica</td>\n",
       "      <td>64</td>\n",
       "      <td>Ashley</td>\n",
       "      <td>61</td>\n",
       "      <td>Amanda</td>\n",
       "      <td>56</td>\n",
       "      <td>Sarah</td>\n",
       "      <td>47</td>\n",
       "      <td>Brittany</td>\n",
       "      <td>43</td>\n",
       "    </tr>\n",
       "    <tr>\n",
       "      <th>32</th>\n",
       "      <td>New Mexico</td>\n",
       "      <td>Ashley</td>\n",
       "      <td>303</td>\n",
       "      <td>Amanda</td>\n",
       "      <td>224</td>\n",
       "      <td>Jessica</td>\n",
       "      <td>211</td>\n",
       "      <td>Samantha</td>\n",
       "      <td>157</td>\n",
       "      <td>Stephanie</td>\n",
       "      <td>137</td>\n",
       "    </tr>\n",
       "    <tr>\n",
       "      <th>0</th>\n",
       "      <td>Alaska</td>\n",
       "      <td>Jessica</td>\n",
       "      <td>106</td>\n",
       "      <td>Ashley</td>\n",
       "      <td>102</td>\n",
       "      <td>Amanda</td>\n",
       "      <td>85</td>\n",
       "      <td>Sarah</td>\n",
       "      <td>78</td>\n",
       "      <td>Samantha</td>\n",
       "      <td>71</td>\n",
       "    </tr>\n",
       "    <tr>\n",
       "      <th>35</th>\n",
       "      <td>Ohio</td>\n",
       "      <td>Ashley</td>\n",
       "      <td>2214</td>\n",
       "      <td>Jessica</td>\n",
       "      <td>1890</td>\n",
       "      <td>Brittany</td>\n",
       "      <td>1640</td>\n",
       "      <td>Sarah</td>\n",
       "      <td>1342</td>\n",
       "      <td>Amanda</td>\n",
       "      <td>1333</td>\n",
       "    </tr>\n",
       "  </tbody>\n",
       "</table>\n",
       "</div>"
      ],
      "text/plain": [
       "         State   Rank 1   Num   Rank 2   Num    Rank 3   Num    Rank 4   Num  \\\n",
       "50     Wyoming  Jessica    64   Ashley    61    Amanda    56     Sarah    47   \n",
       "32  New Mexico   Ashley   303   Amanda   224   Jessica   211  Samantha   157   \n",
       "0       Alaska  Jessica   106   Ashley   102    Amanda    85     Sarah    78   \n",
       "35        Ohio   Ashley  2214  Jessica  1890  Brittany  1640     Sarah  1342   \n",
       "\n",
       "       Rank 5   Num  \n",
       "50   Brittany    43  \n",
       "32  Stephanie   137  \n",
       "0    Samantha    71  \n",
       "35     Amanda  1333  "
      ]
     },
     "execution_count": 269,
     "metadata": {},
     "output_type": "execute_result"
    }
   ],
   "source": [
    "s1.Top5NamesPerYear(year = 1991, sex = \"F\").sample(4)"
   ]
  },
  {
   "cell_type": "code",
   "execution_count": 309,
   "metadata": {},
   "outputs": [
    {
     "data": {
      "image/png": "[encoded data removed]",
      "text/plain": [
       "<matplotlib.figure.Figure at 0x10fc256a0>"
      ]
     },
     "metadata": {},
     "output_type": "display_data"
    }
   ],
   "source": [
    "s1.NamePopularityPlot(name = \"Andrea\", yearRange=(1980,2010), state = \"CA\", sex = \"F\")"
   ]
  },
  {
   "cell_type": "code",
   "execution_count": 26,
   "metadata": {},
   "outputs": [
    {
     "data": {
      "image/png": "[encoded data removed]",
      "text/plain": [
       "<matplotlib.figure.Figure at 0x1231cbf60>"
      ]
     },
     "metadata": {},
     "output_type": "display_data"
    }
   ],
   "source": [
    "s1.NameFlip(5)"
   ]
  },
  {
   "cell_type": "markdown",
   "metadata": {},
   "source": [
    "# Crap tests"
   ]
  },
  {
   "cell_type": "code",
   "execution_count": 4,
   "metadata": {},
   "outputs": [
    {
     "data": {
      "text/plain": [
       "51"
      ]
     },
     "execution_count": 4,
     "metadata": {},
     "output_type": "execute_result"
    }
   ],
   "source": [
    "year = [1991]\n",
    "mystate = [\"MI\"]\n",
    "sex = [\"F\"]\n",
    "len(states_list)"
   ]
  },
  {
   "cell_type": "code",
   "execution_count": 125,
   "metadata": {
    "collapsed": true
   },
   "outputs": [],
   "source": [
    "#TOP 10 BABY NAMES\n",
    "def get_top10(group):\n",
    "    return group.sort_values(by='births',ascending=False).head(10)\n",
    "\n",
    "df = names[names[\"state\"].isin(state) & \n",
    "     names[\"year\"].isin(year)][[\"name\", \"births\", \"sex\"]].groupby([\"name\", \"sex\"], as_index = False).sum().groupby(\"sex\", as_index = False).apply(get_top10)[[\"name\",\"sex\"]]\n",
    "df[\"Rank\"] = list(range(1,11))*2\n",
    "df = df.pivot(index = \"Rank\", columns = \"sex\", values = \"name\").rename(columns={'F': 'Female', 'M' : 'Male'}).reset_index()\n",
    "result = pd.DataFrame({\"Rank\" : df.Rank, \"Male\" : df.Male, \"Female\" : df.Female})[[\"Rank\", \"Male\", \"Female\"]]\n"
   ]
  },
  {
   "cell_type": "code",
   "execution_count": 310,
   "metadata": {
    "collapsed": true
   },
   "outputs": [],
   "source": [
    "#DELTA IN POPULARITY\n",
    "fromYear=2013\n",
    "toYear=2016\n",
    "top=10\n",
    "\n",
    "def get_top(group):\n",
    "    return group.sort_values(by=toYear,ascending=False).head(top)\n",
    "\n",
    "def add_prop(group):\n",
    "    group['prop'] = round(100.0*group.births / group.births.sum(), 4)\n",
    "    return group\n",
    "\n",
    "df = names[(names[\"year\"] == fromYear) | (names[\"year\"] == toYear)].groupby([\"name\", \"year\"], as_index = False).sum().groupby(\"year\", as_index = False).apply(add_prop)\n",
    "df = df.pivot(index = \"name\", columns = \"year\", values = \"prop\").fillna(0).reset_index()\n",
    "\n",
    "df[\"delta\"] = df[toYear] - df[fromYear]\n",
    "df[\"sign\"] = \"neg\" \n",
    "df.loc[(df.delta>0),\"sign\"] = \"pos\"\n",
    "df.loc[(df.delta==0),\"sign\"] = \"zero\"\n",
    "df = df.groupby(\"sign\").apply(get_top)[[\"sign\", \"name\", toYear]].reset_index(drop = True)\n",
    "df[\"Rank\"] = list(range(1,top+1))*3\n",
    "\n",
    "df = df.pivot(index = \"Rank\", columns=\"sign\", values = \"name\")\n",
    "result = pd.DataFrame({\"c1\" : df.pos, \"c2\" : df.neg, \"c3\" : df.zero}).rename(columns={\"c1\": \"More popular\", \"c2\" : \"Less popular\", \"c3\" : \"Same popularity\"}).head(10)\n",
    "\n"
   ]
  },
  {
   "cell_type": "code",
   "execution_count": 184,
   "metadata": {
    "collapsed": true
   },
   "outputs": [],
   "source": [
    "#TOP 5 NAMES PER YEAR PER STATE\n",
    "\n",
    "cols = [\"State\"]\n",
    "for x in range(1,6):\n",
    "    cols.append(\"Rank {}\".format(x))\n",
    "    cols.append(\"Num\")\n",
    "top5df = pd.DataFrame(columns=cols, index=range(51))\n",
    "\n",
    "for i in range(len(states_list)):\n",
    "    df = names[(names[\"year\"].isin(year)) & (names[\"sex\"].isin(sex)) & \n",
    "                  (names[\"state\"]==states_list[i])].sort_values(by=\"births\", ascending = False).head(5)\n",
    "    df.index = range(5)\n",
    "\n",
    "    top5df.iloc[i,0] = states_list[i]\n",
    "    for x in range(5):\n",
    "        top5df.iloc[i,x*2+1] = df.iloc[x,3]\n",
    "        top5df.iloc[i,x*2+2] = df.iloc[x,4]"
   ]
  },
  {
   "cell_type": "code",
   "execution_count": 312,
   "metadata": {
    "collapsed": true
   },
   "outputs": [],
   "source": [
    "#PLOT POPULARITY OVER TIME\n",
    "\n",
    "name='Andrea'\n",
    "yearRange=(1990,2000)\n",
    "state='IL'\n",
    "sex='F'\n",
    "\n",
    "def add_prop(group):\n",
    "    group['prop'] = 100.0*group.births / group.births.sum()\n",
    "    return group\n",
    "\n",
    "df = names[names[\"state\"] == state].groupby(['year','sex']).apply(add_prop)\n",
    "df = df[(df[\"year\"]>=yearRange[0]) & (df[\"year\"]<=yearRange[1])\n",
    "        & (df[\"sex\"] == sex) & (df[\"name\"] == name)]\n",
    "\n",
    "t = \"Popularity of name {} from {} to {}\".format(name, yearRange[0], yearRange[1])\n",
    "#df.set_index(\"year\")[\"prop\"].plot(title=t,figsize=(12,6))"
   ]
  },
  {
   "cell_type": "code",
   "execution_count": 27,
   "metadata": {},
   "outputs": [],
   "source": [
    "#FLIPPING NAMES\n",
    "n = 10\n",
    "\n",
    "dfy = names.groupby(['name', 'year', 'sex'], as_index = False).sum().pivot_table(values = \"births\", columns = \"sex\", index = [\"name\", \"year\"]).fillna(0).reset_index()\n",
    "dfy[\"delta\"] = dfy.F - dfy.M\n",
    "dfy[\"tot\"] = dfy.F + dfy.M\n",
    "\n",
    "df = dfy[['name', 'delta', 'tot']].groupby(\"name\").agg([\"max\", \"min\", \"sum\"]).reset_index()\n",
    "df[\"check\"] = 0\n",
    "df.loc[(df[\"delta\", \"max\"] > 0) & (df[\"delta\", \"min\"] < 0), \"check\"] = 1\n",
    "\n",
    "result = pd.merge(pd.DataFrame(df[df.check == 1].sort_values([(\"tot\", \"sum\")], ascending = False).head(n)[\"name\"]),\n",
    "                  dfy[[\"name\", \"year\", \"delta\"]], left_on='name', right_on='name' , how='inner', sort=False)\n",
    "\n",
    "result = result.pivot(index = \"year\", columns = \"name\", values = \"delta\").fillna(0)\n",
    "t = \"Top {} names that flipped over the years\".format(n)\n",
    "#result.plot(title=t,figsize=(12,6))\n"
   ]
  },
  {
   "cell_type": "code",
   "execution_count": null,
   "metadata": {
    "collapsed": true
   },
   "outputs": [],
   "source": []
  },
  {
   "cell_type": "code",
   "execution_count": null,
   "metadata": {
    "collapsed": true
   },
   "outputs": [],
   "source": []
  }
 ],
 "metadata": {
  "kernelspec": {
   "display_name": "Python [conda root]",
   "language": "python",
   "name": "conda-root-py"
  },
  "language_info": {
   "codemirror_mode": {
    "name": "ipython",
    "version": 3
   },
   "file_extension": ".py",
   "mimetype": "text/x-python",
   "name": "python",
   "nbconvert_exporter": "python",
   "pygments_lexer": "ipython3",
   "version": "3.6.2"
  }
 },
 "nbformat": 4,
 "nbformat_minor": 2
}
